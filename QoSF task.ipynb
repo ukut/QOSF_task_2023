{
 "cells": [
  {
   "cell_type": "code",
   "execution_count": null,
   "id": "a6371569",
   "metadata": {},
   "outputs": [],
   "source": []
  },
  {
   "cell_type": "code",
   "execution_count": null,
   "id": "93d6b8c0",
   "metadata": {},
   "outputs": [],
   "source": []
  },
  {
   "cell_type": "code",
   "execution_count": 1,
   "id": "1036d22d",
   "metadata": {},
   "outputs": [
    {
     "name": "stdout",
     "output_type": "stream",
     "text": [
      "5\n"
     ]
    }
   ],
   "source": [
    "def largest_number(number_1, number_2):\n",
    "    \n",
    "    if number_1 > number_2:\n",
    "        return (number_1)\n",
    "    elif number_1 < number_2:\n",
    "        return (number_2)\n",
    "    else:\n",
    "        return (number_1)\n",
    "print(largest_number(5,3))"
   ]
  },
  {
   "cell_type": "code",
   "execution_count": null,
   "id": "e7476a8b",
   "metadata": {},
   "outputs": [],
   "source": []
  },
  {
   "cell_type": "code",
   "execution_count": null,
   "id": "ccab2356",
   "metadata": {},
   "outputs": [],
   "source": []
  }
 ],
 "metadata": {
  "kernelspec": {
   "display_name": "Python 3 (ipykernel)",
   "language": "python",
   "name": "python3"
  },
  "language_info": {
   "codemirror_mode": {
    "name": "ipython",
    "version": 3
   },
   "file_extension": ".py",
   "mimetype": "text/x-python",
   "name": "python",
   "nbconvert_exporter": "python",
   "pygments_lexer": "ipython3",
   "version": "3.9.12"
  }
 },
 "nbformat": 4,
 "nbformat_minor": 5
}
